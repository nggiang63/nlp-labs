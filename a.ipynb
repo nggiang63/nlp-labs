{
 "cells": [
  {
   "cell_type": "code",
   "execution_count": null,
   "id": "c1cd6973",
   "metadata": {
    "vscode": {
     "languageId": "plaintext"
    }
   },
   "outputs": [],
   "source": [
    "a = 4"
   ]
  }
 ],
 "metadata": {
  "language_info": {
   "name": "python"
  }
 },
 "nbformat": 4,
 "nbformat_minor": 5
}
