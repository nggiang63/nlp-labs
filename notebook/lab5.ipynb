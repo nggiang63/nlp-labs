{
 "cells": [
  {
   "cell_type": "code",
   "execution_count": null,
   "id": "60a7d034",
   "metadata": {
    "vscode": {
     "languageId": "plaintext"
    }
   },
   "outputs": [],
   "source": [
    "val path = \"/home/giangnt/Downloads/NLP_DL/nlp-labs/data/sentiments.csv\""
   ]
  },
  {
   "cell_type": "code",
   "execution_count": null,
   "id": "9bed99d0",
   "metadata": {
    "vscode": {
     "languageId": "plaintext"
    }
   },
   "outputs": [],
   "source": [
    "val path = \"/home/giangnt/Downloads/NLP_DL/nlp-labs/data/sentiments.csv\""
   ]
  },
  {
   "cell_type": "code",
   "execution_count": null,
   "id": "d076fe96",
   "metadata": {
    "vscode": {
     "languageId": "plaintext"
    }
   },
   "outputs": [],
   "source": [
    "\n",
    "scala> val classifier = new MultilayerPerceptronClassifier().setLayers()\n",
    "                            ^\n",
    "       error: not found: type MultilayerPerceptronClassifier\n",
    "\n",
    "scala> "
   ]
  },
  {
   "cell_type": "code",
   "execution_count": null,
   "id": "2d04d7f0",
   "metadata": {
    "vscode": {
     "languageId": "plaintext"
    }
   },
   "outputs": [],
   "source": [
    "val classifier = new MultilayerPerceptronClassifier().setLayers(Array(9859, 50, 2))"
   ]
  },
  {
   "cell_type": "code",
   "execution_count": null,
   "id": "ba767baf",
   "metadata": {
    "vscode": {
     "languageId": "plaintext"
    }
   },
   "outputs": [],
   "source": [
    "from datasets import load_dataset\n",
    "\n",
    "ds = load_dataset(\"zeroshot/twitter-financial-news-sentiment\")"
   ]
  }
 ],
 "metadata": {
  "language_info": {
   "name": "python"
  }
 },
 "nbformat": 4,
 "nbformat_minor": 5
}
